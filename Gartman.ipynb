{
 "cells": [
  {
   "cell_type": "code",
   "execution_count": 1,
   "metadata": {
    "collapsed": false,
    "deletable": true,
    "editable": true
   },
   "outputs": [],
   "source": [
    "%matplotlib inline\n",
    "\n",
    "import pandas as pd\n",
    "import arrow\n",
    "from termcolor import colored\n",
    "from datetime import datetime\n",
    "from matplotlib import pyplot as plt\n",
    "import seaborn as sns"
   ]
  },
  {
   "cell_type": "code",
   "execution_count": 2,
   "metadata": {
    "collapsed": true
   },
   "outputs": [],
   "source": [
    "def encode_vals(col):\n",
    "    items = list()\n",
    "    for item in col.values:\n",
    "        item = item[0]\n",
    "        if isinstance(item, float): item = \"None\"\n",
    "        if \"Bear\" in item: items.append(-1)\n",
    "        elif \"Bull\" in item: items.append(1)\n",
    "        else: items.append(0)\n",
    "    return items\n",
    "\n",
    "def encode_dates(col):\n",
    "    items = list()\n",
    "    for item in col.values:\n",
    "        split = item[0].split(\"/\")\n",
    "        fill_2 = lambda x: x if len(x)==2 else \"0\"+str(x)\n",
    "        item = \"{}/{}/{}\".format(fill_2(split[0]), fill_2(split[1]), split[2])\n",
    "        items.append(arrow.get(item, 'MM/DD/YYYY'))\n",
    "    return items"
   ]
  },
  {
   "cell_type": "code",
   "execution_count": 3,
   "metadata": {
    "collapsed": false,
    "deletable": true,
    "editable": true,
    "scrolled": true
   },
   "outputs": [],
   "source": [
    "df = pd.read_csv(\"GartmanRecords2016.csv\")[['Date', 'Stocks', 'Crude']]\n",
    "df['Stocks'], df['Crude'] = map(encode_vals, [df[['Stocks']], df[['Crude']]])\n",
    "df['Date'] = encode_dates(df[['Date']])\n",
    "trades_table = df"
   ]
  },
  {
   "cell_type": "code",
   "execution_count": 4,
   "metadata": {
    "collapsed": false,
    "deletable": true,
    "editable": true,
    "scrolled": true
   },
   "outputs": [],
   "source": [
    "data = pd.read_csv(\"HistoricalData.csv\", names=['Date', 'Equities', 'Oil'])\n",
    "data.drop(data.index[[0]], inplace=True) # delete header row\n",
    "data['Equities'], data['Oil'] = pd.to_numeric(data['Equities'].values), pd.to_numeric(data['Oil'].values)\n",
    "data['Date'] = encode_dates(data[['Date']])\n",
    "data.set_index('Date', inplace=True)\n",
    "data = data.T.to_dict(\"list\")"
   ]
  },
  {
   "cell_type": "code",
   "execution_count": 5,
   "metadata": {
    "collapsed": false,
    "deletable": true,
    "editable": true
   },
   "outputs": [],
   "source": [
    "PERCENT_CAPITAL_PER_TRADE = 0.25\n",
    "matcher = {\"equities\": 0, \"oil\": 1}\n",
    "\n",
    "class Trade(object):\n",
    "    def __init__(self, enter_date, exit_date, name, share_multiplyer):\n",
    "        self.enter_date, self.exit_date = enter_date, exit_date\n",
    "        self.name = name\n",
    "        self.share_multiplyer = share_multiplyer\n",
    "    \n",
    "    def enter(self, cur_date, money):\n",
    "        if cur_date == self.enter_date:\n",
    "            self.initial_stock_value = data[self.enter_date][matcher[self.name]]\n",
    "            self.shares = self.share_multiplyer*((money*PERCENT_CAPITAL_PER_TRADE)/self.initial_stock_value)\n",
    "            self.inital_value = self.initial_stock_value * self.shares\n",
    "            if self.shares > 0: action = colored('Buying', 'green')\n",
    "            else: action = colored('Shorting', 'red')\n",
    "            print \"{} {:.2f} shares of {} for ${:.2f}\".format(action, abs(self.shares), self.name, abs(self.inital_value))\n",
    "            return 0\n",
    "#             return self.inital_value\n",
    "        else: return 0\n",
    "\n",
    "    def exit(self, cur_date):\n",
    "        if cur_date == self.exit_date:\n",
    "            try: exit_stock_value = data[self.exit_date][matcher[self.name]]\n",
    "            except KeyError: # no data for that day\n",
    "                try: exit_stock_value = data[self.exit_date.replace(day=1)][matcher[self.name]]\n",
    "                except KeyError: exit_stock_value = data[self.exit_date.replace(day=2)][matcher[self.name]]\n",
    "            exit_value = exit_stock_value * self.shares\n",
    "            self.profit = exit_value - self.inital_value\n",
    "            if self.shares > 0: action = 'Selling' #action = colored('Selling', 'green')\n",
    "            else: action = 'Covering' #action = colored('Covering', 'red')\n",
    "            if self.profit > 0: profit = colored(\"(profit: ${:.2f})\".format(self.profit), 'green')\n",
    "            else: profit = colored(\"(profit: ${:.2f})\".format(self.profit), 'red')\n",
    "            print \"{} {:.2f} shares of {} for {:.2f} {}\".format(action, abs(self.shares), self.name, exit_value, profit)\n",
    "            return self.profit\n",
    "        else: return 0"
   ]
  },
  {
   "cell_type": "code",
   "execution_count": 6,
   "metadata": {
    "collapsed": false,
    "deletable": true,
    "editable": true
   },
   "outputs": [],
   "source": [
    "def make_trades(trades):\n",
    "    for trade_ in trades.iterrows():\n",
    "        trade = trade_[1]\n",
    "        if trade['Stocks'] != 0: name = \"equities\"; share_multiplyer = trade['Stocks']\n",
    "        elif trade['Crude'] != 0: name = \"oil\"; share_multiplyer = trade['Crude']\n",
    "        else: raise ValueError\n",
    "            \n",
    "        enter_date = trade['Date']\n",
    "        exit_date = enter_date.replace(months=1)\n",
    "        \n",
    "        yield Trade(enter_date, exit_date, name, share_multiplyer)\n",
    "        \n",
    "trades = list(make_trades(trades_table))"
   ]
  },
  {
   "cell_type": "code",
   "execution_count": 7,
   "metadata": {
    "collapsed": false,
    "deletable": true,
    "editable": true
   },
   "outputs": [
    {
     "name": "stdout",
     "output_type": "stream",
     "text": [
      "\u001b[31mShorting\u001b[0m 12.57 shares of equities for $2500.00\n",
      "\u001b[31mShorting\u001b[0m 275.03 shares of oil for $2500.00\n",
      "\u001b[32mBuying\u001b[0m 280.58 shares of oil for $2500.00\n",
      "Covering 12.57 shares of equities for -2434.99 \u001b[32m(profit: $65.01)\u001b[0m\n",
      "Covering 275.03 shares of oil for -2480.75 \u001b[32m(profit: $19.25)\u001b[0m\n",
      "\u001b[31mShorting\u001b[0m 12.94 shares of equities for $2521.07\n",
      "\u001b[32mBuying\u001b[0m 12.92 shares of equities for $2521.07\n",
      "\u001b[31mShorting\u001b[0m 12.73 shares of equities for $2521.07\n",
      "\u001b[32mBuying\u001b[0m 12.67 shares of equities for $2521.07\n",
      "Selling 280.58 shares of oil for 2567.34 \u001b[32m(profit: $67.34)\u001b[0m\n",
      "\u001b[31mShorting\u001b[0m 12.65 shares of equities for $2537.90\n",
      "\u001b[31mShorting\u001b[0m 12.48 shares of equities for $2537.90\n",
      "\u001b[31mShorting\u001b[0m 12.40 shares of equities for $2537.90\n",
      "\u001b[31mShorting\u001b[0m 242.17 shares of oil for $2537.90\n",
      "Covering 12.94 shares of equities for -2647.65 \u001b[31m(profit: $-126.58)\u001b[0m\n",
      "Selling 12.92 shares of equities for 2560.09 \u001b[32m(profit: $39.03)\u001b[0m\n",
      "\u001b[32mBuying\u001b[0m 12.24 shares of equities for $2516.01\n",
      "\u001b[31mShorting\u001b[0m 12.16 shares of equities for $2516.01\n",
      "Covering 12.73 shares of equities for -2633.18 \u001b[31m(profit: $-112.11)\u001b[0m\n",
      "Selling 12.67 shares of equities for 2621.40 \u001b[32m(profit: $100.34)\u001b[0m\n",
      "Covering 12.65 shares of equities for -2580.41 \u001b[31m(profit: $-42.51)\u001b[0m\n",
      "Covering 12.48 shares of equities for -2582.58 \u001b[31m(profit: $-44.68)\u001b[0m\n",
      "Covering 12.40 shares of equities for -2566.30 \u001b[31m(profit: $-28.40)\u001b[0m\n",
      "Covering 242.17 shares of oil for -2462.83 \u001b[32m(profit: $75.07)\u001b[0m\n",
      "\u001b[32mBuying\u001b[0m 224.68 shares of oil for $2502.94\n",
      "Selling 12.24 shares of equities for 2533.15 \u001b[32m(profit: $17.14)\u001b[0m\n",
      "Covering 12.16 shares of equities for -2528.78 \u001b[31m(profit: $-12.77)\u001b[0m\n",
      "\u001b[31mShorting\u001b[0m 12.16 shares of equities for $2504.03\n",
      "\u001b[31mShorting\u001b[0m 12.11 shares of equities for $2504.03\n",
      "\u001b[31mShorting\u001b[0m 12.22 shares of equities for $2504.03\n",
      "Selling 224.68 shares of oil for 2691.67 \u001b[32m(profit: $188.73)\u001b[0m\n",
      "Covering 12.16 shares of equities for -2579.31 \u001b[31m(profit: $-75.28)\u001b[0m\n",
      "\u001b[32mBuying\u001b[0m 12.17 shares of equities for $2532.39\n",
      "Covering 12.11 shares of equities for -2523.28 \u001b[31m(profit: $-19.25)\u001b[0m\n",
      "Covering 12.22 shares of equities for -2524.44 \u001b[31m(profit: $-20.41)\u001b[0m\n",
      "\u001b[32mBuying\u001b[0m 12.12 shares of equities for $2522.47\n",
      "\u001b[31mShorting\u001b[0m 12.21 shares of equities for $2522.47\n",
      "\u001b[31mShorting\u001b[0m 12.04 shares of equities for $2522.47\n",
      "\u001b[32mBuying\u001b[0m 11.82 shares of equities for $2522.47\n",
      "\u001b[32mBuying\u001b[0m 234.65 shares of oil for $2522.47\n",
      "Selling 12.17 shares of equities for 2630.75 \u001b[32m(profit: $98.35)\u001b[0m\n",
      "Selling 12.12 shares of equities for 2633.26 \u001b[32m(profit: $110.79)\u001b[0m\n",
      "Covering 12.21 shares of equities for -2650.15 \u001b[31m(profit: $-127.67)\u001b[0m\n",
      "Covering 12.04 shares of equities for -2611.68 \u001b[31m(profit: $-89.21)\u001b[0m\n",
      "\u001b[32mBuying\u001b[0m 11.56 shares of equities for $2520.54\n",
      "Selling 11.82 shares of equities for 2584.53 \u001b[32m(profit: $62.06)\u001b[0m\n",
      "Selling 234.65 shares of oil for 2208.04 \u001b[31m(profit: $-314.43)\u001b[0m\n",
      "\u001b[31mShorting\u001b[0m 223.61 shares of oil for $2457.45\n",
      "Selling 11.56 shares of equities for 2525.86 \u001b[32m(profit: $5.32)\u001b[0m\n",
      "Covering 223.61 shares of oil for -2249.49 \u001b[32m(profit: $207.96)\u001b[0m\n",
      "\u001b[32mBuying\u001b[0m 11.64 shares of equities for $2510.76\n",
      "\u001b[32mBuying\u001b[0m 221.60 shares of oil for $2510.76\n",
      "\u001b[32mBuying\u001b[0m 11.72 shares of equities for $2510.76\n",
      "Selling 11.64 shares of equities for 2429.31 \u001b[31m(profit: $-81.45)\u001b[0m\n",
      "Selling 221.60 shares of oil for 2251.49 \u001b[31m(profit: $-259.28)\u001b[0m\n",
      "\u001b[31mShorting\u001b[0m 11.21 shares of equities for $2425.58\n",
      "Selling 11.72 shares of equities for 2472.45 \u001b[31m(profit: $-38.32)\u001b[0m\n",
      "\u001b[31mShorting\u001b[0m 221.04 shares of oil for $2416.00\n",
      "Covering 11.21 shares of equities for -2539.14 \u001b[31m(profit: $-113.56)\u001b[0m\n",
      "\u001b[32mBuying\u001b[0m 203.55 shares of oil for $2387.62\n",
      "Covering 221.04 shares of oil for -2590.63 \u001b[31m(profit: $-174.62)\u001b[0m\n",
      "Selling 203.55 shares of oil for 2322.48 \u001b[31m(profit: $-65.14)\u001b[0m\n"
     ]
    },
    {
     "data": {
      "image/png": "[encoded data removed]",
      "text/plain": [
       "<matplotlib.figure.Figure at 0x116168250>"
      ]
     },
     "metadata": {},
     "output_type": "display_data"
    },
    {
     "name": "stdout",
     "output_type": "stream",
     "text": [
      "With Gartman's guidance, we went from $10000.00 to $9310.70!\n"
     ]
    }
   ],
   "source": [
    "initial_money = 10000\n",
    "money = initial_money\n",
    "portfolio = []\n",
    "\n",
    "start = datetime(2016, 1, 1, 0, 0) # Jan 1, 2016\n",
    "end = datetime(2017, 2, 1, 0, 0)   # Feb 1, 2017\n",
    "\n",
    "for ind, date in enumerate(arrow.Arrow.range('day', start, end)):\n",
    "    enters = [trade.enter(date, money) for trade in trades]\n",
    "    profit = sum([trade.exit(date) for trade in trades])\n",
    "    money += profit\n",
    "    portfolio.append(money)\n",
    "\n",
    "fig = plt.figure(figsize=(11, 8.5))\n",
    "ax = fig.add_subplot(111)\n",
    "ax.plot(portfolio)\n",
    "# ax.set_ylim(0, max(portfolio))\n",
    "ax.set_title(\"The Gartman Portfolio\")\n",
    "ax.set_xlabel(\"Days after Jan 1, 2016\")\n",
    "ax.set_ylabel(\"Gartman's Assets ($)\")\n",
    "plt.show()\n",
    "print \"With Gartman's guidance, we went from ${:.2f} to ${:.2f}!\".format(initial_money, money)"
   ]
  }
 ],
 "metadata": {
  "anaconda-cloud": {},
  "kernelspec": {
   "display_name": "Python 2",
   "language": "python",
   "name": "python2"
  },
  "language_info": {
   "codemirror_mode": {
    "name": "ipython",
    "version": 2
   },
   "file_extension": ".py",
   "mimetype": "text/x-python",
   "name": "python",
   "nbconvert_exporter": "python",
   "pygments_lexer": "ipython2",
   "version": "2.7.13"
  }
 },
 "nbformat": 4,
 "nbformat_minor": 1
}
