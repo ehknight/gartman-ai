{
 "cells": [
  {
   "cell_type": "code",
   "execution_count": 1,
   "metadata": {
    "collapsed": false
   },
   "outputs": [],
   "source": [
    "%matplotlib inline\n",
    "\n",
    "import pandas as pd\n",
    "import arrow\n",
    "from datetime import datetime\n",
    "from matplotlib import pyplot as plt"
   ]
  },
  {
   "cell_type": "code",
   "execution_count": 2,
   "metadata": {
    "collapsed": false,
    "scrolled": true
   },
   "outputs": [],
   "source": [
    "def encode_vals(col):\n",
    "    items = list()\n",
    "    for item in col.values:\n",
    "        item = item[0]\n",
    "        if isinstance(item, float): item = \"None\"\n",
    "        if \"Bear\" in item: items.append(-1)\n",
    "        elif \"Bull\" in item: items.append(1)\n",
    "        else: items.append(0)\n",
    "    return items\n",
    "\n",
    "def encode_dates(col):\n",
    "    items = list()\n",
    "    for item in col.values:\n",
    "        split = item[0].split(\"/\")\n",
    "        fill_2 = lambda x: x if len(x)==2 else \"0\"+str(x)\n",
    "        item = \"{}/{}/{}\".format(fill_2(split[0]), fill_2(split[1]), split[2])\n",
    "        items.append(arrow.get(item, 'MM/DD/YYYY'))\n",
    "    return items"
   ]
  },
  {
   "cell_type": "code",
   "execution_count": 3,
   "metadata": {
    "collapsed": false,
    "scrolled": true
   },
   "outputs": [],
   "source": [
    "df = pd.read_csv(\"GartmanRecords2016.csv\")[['Date', 'Stocks', 'Crude']]\n",
    "df['Stocks'], df['Crude'] = map(encode_vals, [df[['Stocks']], df[['Crude']]])\n",
    "df['Date'] = encode_dates(df[['Date']])\n",
    "trades_table = df"
   ]
  },
  {
   "cell_type": "code",
   "execution_count": 4,
   "metadata": {
    "collapsed": false,
    "scrolled": true
   },
   "outputs": [],
   "source": [
    "data = pd.read_csv(\"HistoricalData.csv\", names=['Date', 'Equities', 'Oil'])\n",
    "data.drop(data.index[[0]], inplace=True) # delete header row\n",
    "data['Equities'], data['Oil'] = pd.to_numeric(data['Equities'].values), pd.to_numeric(data['Oil'].values)\n",
    "data['Date'] = encode_dates(data[['Date']])\n",
    "data.set_index('Date', inplace=True)\n",
    "data = data.T.to_dict(\"list\")"
   ]
  },
  {
   "cell_type": "code",
   "execution_count": 5,
   "metadata": {
    "collapsed": false
   },
   "outputs": [],
   "source": [
    "matcher = {\"equities\": 0, \"oil\": 1}\n",
    "\n",
    "class Trade(object):\n",
    "    def __init__(self, enter_date, exit_date, name, shares):\n",
    "        self.enter_date, self.exit_date = enter_date, exit_date\n",
    "        self.name = name\n",
    "        self.shares = shares\n",
    "    \n",
    "    def enter(self, cur_date):\n",
    "        if cur_date == self.enter_date:\n",
    "            self.initial_stock_value = data[self.enter_date][matcher[self.name]]\n",
    "            self.inital_value = self.initial_stock_value * self.shares\n",
    "            print \"Buying {} for {}\".format(self.name, self.inital_value)\n",
    "            return 0\n",
    "#             return self.inital_value\n",
    "        else: return 0\n",
    "\n",
    "    def exit(self, cur_date):\n",
    "        if cur_date == self.exit_date:\n",
    "            try: exit_stock_value = data[self.exit_date][matcher[self.name]]\n",
    "            except KeyError: # no data for that day\n",
    "                try: exit_stock_value = data[self.exit_date.replace(day=1)][matcher[self.name]]\n",
    "                except KeyError: exit_stock_value = data[self.exit_date.replace(day=2)][matcher[self.name]]\n",
    "            exit_value = exit_stock_value * self.shares\n",
    "            self.profit = exit_value - self.inital_value\n",
    "            print \"Selling {} for {} (profit {})\".format(self.name, exit_value, self.profit)\n",
    "            return self.profit\n",
    "        else: return 0"
   ]
  },
  {
   "cell_type": "code",
   "execution_count": 7,
   "metadata": {
    "collapsed": false
   },
   "outputs": [],
   "source": [
    "EQ_SHARES = 10\n",
    "OIL_SHARES = EQ_SHARES*100\n",
    "\n",
    "def make_trades(trades):\n",
    "    for trade_ in trades.iterrows():\n",
    "        trade = trade_[1]\n",
    "        if trade['Stocks'] != 0: name = \"equities\"; shares=EQ_SHARES\n",
    "        elif trade['Crude'] != 0: name = \"oil\"; shares = OIL_SHARES\n",
    "        else: raise ValueError\n",
    "            \n",
    "        enter_date = trade['Date']\n",
    "        exit_date = enter_date.replace(months=1)\n",
    "        \n",
    "        yield Trade(enter_date, exit_date, name, shares)\n",
    "        \n",
    "trades = list(make_trades(trades_table))"
   ]
  },
  {
   "cell_type": "code",
   "execution_count": 8,
   "metadata": {
    "collapsed": false
   },
   "outputs": [
    {
     "name": "stdout",
     "output_type": "stream",
     "text": [
      "Buying equities for 1988.2\n",
      "Buying oil for 9090.0\n",
      "Buying oil for 8910.0\n",
      "Selling equities for 1936.5 (profit -51.7)\n",
      "Selling oil for 9020.0 (profit -70.0)\n",
      "Buying equities for 1947.8\n",
      "Buying equities for 1950.9\n",
      "Buying equities for 1981.1\n",
      "Buying equities for 1990.0\n",
      "Selling oil for 9150.0 (profit 240.0)\n",
      "Buying equities for 2005.9\n",
      "Buying equities for 2033.4\n",
      "Buying equities for 2046.3\n",
      "Buying oil for 10480.0\n",
      "Selling equities for 2045.6 (profit 97.8)\n",
      "Selling equities for 1981.1 (profit 30.2)\n",
      "Buying equities for 2055.2\n",
      "Buying equities for 2069.2\n",
      "Selling equities for 2069.2 (profit 88.1)\n",
      "Selling equities for 2069.2 (profit 79.2)\n",
      "Selling equities for 2039.5 (profit 33.6)\n",
      "Selling equities for 2069.2 (profit 35.8)\n",
      "Selling equities for 2069.2 (profit 22.9)\n",
      "Selling oil for 10170.0 (profit -310.0)\n",
      "Buying oil for 11140.0\n",
      "Selling equities for 2069.2 (profit 14.0)\n",
      "Selling equities for 2079.7 (profit 10.5)\n",
      "Buying equities for 2058.9\n",
      "Buying equities for 2067.8\n",
      "Buying equities for 2048.5\n",
      "Selling oil for 11980.0 (profit 840.0)\n",
      "Selling equities for 2120.8 (profit 61.9)\n",
      "Buying equities for 2080.4\n",
      "Selling equities for 2083.7 (profit 15.9)\n",
      "Selling equities for 2065.2 (profit 16.7)\n",
      "Buying equities for 2081.0\n",
      "Buying equities for 2066.6\n",
      "Buying equities for 2095.3\n",
      "Buying equities for 2134.0\n",
      "Buying oil for 10750.0\n",
      "Selling equities for 2161.2 (profit 80.8)\n",
      "Selling equities for 2172.4 (profit 91.4)\n",
      "Selling equities for 2171.2 (profit 104.6)\n",
      "Selling equities for 2169.4 (profit 74.1)\n",
      "Buying equities for 2180.5\n",
      "Selling equities for 2186.5 (profit 52.5)\n",
      "Selling oil for 9410.0 (profit -1340.0)\n",
      "Buying oil for 10990.0\n",
      "Selling equities for 2185.1 (profit 4.6)\n",
      "Selling oil for 10060.0 (profit -930.0)\n",
      "Buying equities for 2157.8\n",
      "Buying oil for 11330.0\n",
      "Buying equities for 2142.8\n",
      "Selling equities for 2087.8 (profit -70.0)\n",
      "Selling oil for 10160.0 (profit -1170.0)\n",
      "Buying equities for 2163.8\n",
      "Selling equities for 2110.1 (profit -32.7)\n",
      "Buying oil for 10930.0\n",
      "Selling equities for 2265.1 (profit 101.3)\n",
      "Buying oil for 11730.0\n",
      "Selling oil for 11720.0 (profit 790.0)\n",
      "Selling oil for 11410.0 (profit -320.0)\n"
     ]
    },
    {
     "data": {
      "image/png": "[encoded data removed]",
      "text/plain": [
       "<matplotlib.figure.Figure at 0x9d1be10>"
      ]
     },
     "metadata": {},
     "output_type": "display_data"
    }
   ],
   "source": [
    "money = 10000\n",
    "portfolio = []\n",
    "\n",
    "start = datetime(2016, 1, 1, 0, 0) # Jan 1, 2016\n",
    "end = datetime(2017, 2, 1, 0, 0)   # Feb 1, 2017\n",
    "\n",
    "for ind, date in enumerate(arrow.Arrow.range('day', start, end)):\n",
    "    enters = [trade.enter(date) for trade in trades]\n",
    "    profit = sum([trade.exit(date) for trade in trades])\n",
    "    money += profit\n",
    "    portfolio.append(money)\n",
    "\n",
    "fig = plt.figure()\n",
    "ax = fig.add_subplot(111)\n",
    "ax.plot(portfolio)\n",
    "ax.set_ylim(0, max(portfolio))\n",
    "ax.set_title(\"The Gartman Portfolio\")\n",
    "ax.set_xlabel(\"Days after Jan 1, 2016\")\n",
    "ax.set_ylabel(\"Gartman's Assets ($)\")\n",
    "plt.show()"
   ]
  },
  {
   "cell_type": "code",
   "execution_count": null,
   "metadata": {
    "collapsed": true
   },
   "outputs": [],
   "source": []
  }
 ],
 "metadata": {
  "anaconda-cloud": {},
  "kernelspec": {
   "display_name": "Python [conda root]",
   "language": "python",
   "name": "conda-root-py"
  },
  "language_info": {
   "codemirror_mode": {
    "name": "ipython",
    "version": 2
   },
   "file_extension": ".py",
   "mimetype": "text/x-python",
   "name": "python",
   "nbconvert_exporter": "python",
   "pygments_lexer": "ipython2",
   "version": "2.7.12"
  }
 },
 "nbformat": 4,
 "nbformat_minor": 1
}
