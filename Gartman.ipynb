{
 "cells": [
  {
   "cell_type": "code",
   "execution_count": 3,
   "metadata": {
    "collapsed": false,
    "deletable": true,
    "editable": true
   },
   "outputs": [],
   "source": [
    "%matplotlib inline\n",
    "\n",
    "import pandas as pd\n",
    "import arrow\n",
    "from datetime import datetime\n",
    "from matplotlib import pyplot as plt"
   ]
  },
  {
   "cell_type": "code",
   "execution_count": 5,
   "metadata": {
    "collapsed": true
   },
   "outputs": [],
   "source": [
    "def encode_vals(col):\n",
    "    items = list()\n",
    "    for item in col.values:\n",
    "        item = item[0]\n",
    "        if isinstance(item, float): item = \"None\"\n",
    "        if \"Bear\" in item: items.append(-1)\n",
    "        elif \"Bull\" in item: items.append(1)\n",
    "        else: items.append(0)\n",
    "    return items\n",
    "\n",
    "def encode_dates(col):\n",
    "    items = list()\n",
    "    for item in col.values:\n",
    "        split = item[0].split(\"/\")\n",
    "        fill_2 = lambda x: x if len(x)==2 else \"0\"+str(x)\n",
    "        item = \"{}/{}/{}\".format(fill_2(split[0]), fill_2(split[1]), split[2])\n",
    "        items.append(arrow.get(item, 'MM/DD/YYYY'))\n",
    "    return items"
   ]
  },
  {
   "cell_type": "code",
   "execution_count": 6,
   "metadata": {
    "collapsed": false,
    "deletable": true,
    "editable": true,
    "scrolled": true
   },
   "outputs": [],
   "source": [
    "df = pd.read_csv(\"GartmanRecords2016.csv\")[['Date', 'Stocks', 'Crude']]\n",
    "df['Stocks'], df['Crude'] = map(encode_vals, [df[['Stocks']], df[['Crude']]])\n",
    "df['Date'] = encode_dates(df[['Date']])\n",
    "trades_table = df"
   ]
  },
  {
   "cell_type": "code",
   "execution_count": 7,
   "metadata": {
    "collapsed": false,
    "deletable": true,
    "editable": true,
    "scrolled": true
   },
   "outputs": [],
   "source": [
    "data = pd.read_csv(\"HistoricalData.csv\", names=['Date', 'Equities', 'Oil'])\n",
    "data.drop(data.index[[0]], inplace=True) # delete header row\n",
    "data['Equities'], data['Oil'] = pd.to_numeric(data['Equities'].values), pd.to_numeric(data['Oil'].values)\n",
    "data['Date'] = encode_dates(data[['Date']])\n",
    "data.set_index('Date', inplace=True)\n",
    "data = data.T.to_dict(\"list\")"
   ]
  },
  {
   "cell_type": "code",
   "execution_count": 67,
   "metadata": {
    "collapsed": false,
    "deletable": true,
    "editable": true
   },
   "outputs": [],
   "source": [
    "PERCENT_CAPITAL_PER_TRADE = 0.25\n",
    "matcher = {\"equities\": 0, \"oil\": 1}\n",
    "\n",
    "class Trade(object):\n",
    "    def __init__(self, enter_date, exit_date, name, share_multiplyer):\n",
    "        self.enter_date, self.exit_date = enter_date, exit_date\n",
    "        self.name = name\n",
    "        self.share_multiplyer = share_multiplyer\n",
    "    \n",
    "    def enter(self, cur_date, money):\n",
    "        if cur_date == self.enter_date:\n",
    "            self.initial_stock_value = data[self.enter_date][matcher[self.name]]\n",
    "            self.shares = self.share_multiplyer*((money*PERCENT_CAPITAL_PER_TRADE)/self.initial_stock_value)\n",
    "            self.inital_value = self.initial_stock_value * self.shares\n",
    "            if self.shares > 0:\n",
    "                print \"Buying {:.2f} shares of {} for ${:.2f}\".format(self.shares, self.name, self.inital_value)\n",
    "            else:\n",
    "                short_shares = -1*self.shares\n",
    "                short_value = -1*self.inital_value\n",
    "                print \"Shorting {:.2f} shares of {} for ${:.2f}\".format(short_shares, self.name, short_value)\n",
    "            return 0\n",
    "#             return self.inital_value\n",
    "        else: return 0\n",
    "\n",
    "    def exit(self, cur_date):\n",
    "        if cur_date == self.exit_date:\n",
    "            try: exit_stock_value = data[self.exit_date][matcher[self.name]]\n",
    "            except KeyError: # no data for that day\n",
    "                try: exit_stock_value = data[self.exit_date.replace(day=1)][matcher[self.name]]\n",
    "                except KeyError: exit_stock_value = data[self.exit_date.replace(day=2)][matcher[self.name]]\n",
    "            exit_value = exit_stock_value * self.shares\n",
    "            self.profit = exit_value - self.inital_value\n",
    "            if self.shares > 0:\n",
    "                print \"Selling {:.2f} shares of {} for {:.2f} (profit ${:.2f})\".format(self.shares, self.name, exit_value, self.profit)\n",
    "            else:\n",
    "                short_shares = -1*self.shares\n",
    "                print \"Covering {:.2f} shares of {} for {:.2f} (profit ${:.2f})\".format(short_shares, self.name, exit_value, self.profit)\n",
    "            return self.profit\n",
    "        else: return 0"
   ]
  },
  {
   "cell_type": "code",
   "execution_count": 68,
   "metadata": {
    "collapsed": false,
    "deletable": true,
    "editable": true
   },
   "outputs": [],
   "source": [
    "def make_trades(trades):\n",
    "    for trade_ in trades.iterrows():\n",
    "        trade = trade_[1]\n",
    "        if trade['Stocks'] != 0: name = \"equities\"; share_multiplyer = trade['Stocks']\n",
    "        elif trade['Crude'] != 0: name = \"oil\"; share_multiplyer = trade['Crude']\n",
    "        else: raise ValueError\n",
    "            \n",
    "        enter_date = trade['Date']\n",
    "        exit_date = enter_date.replace(months=1)\n",
    "        \n",
    "        yield Trade(enter_date, exit_date, name, share_multiplyer)\n",
    "        \n",
    "trades = list(make_trades(trades_table))"
   ]
  },
  {
   "cell_type": "code",
   "execution_count": 69,
   "metadata": {
    "collapsed": false,
    "deletable": true,
    "editable": true
   },
   "outputs": [
    {
     "name": "stdout",
     "output_type": "stream",
     "text": [
      "Shorting 12.57 shares of equities for $2500.00\n",
      "Shorting 275.03 shares of oil for $2500.00\n",
      "Buying 280.58 shares of oil for $2500.00\n",
      "Covering 12.57 shares of equities for -2434.99 (profit $65.01)\n",
      "Covering 275.03 shares of oil for -2480.75 (profit $19.25)\n",
      "Shorting 12.94 shares of equities for $2521.07\n",
      "Buying 12.92 shares of equities for $2521.07\n",
      "Shorting 12.73 shares of equities for $2521.07\n",
      "Buying 12.67 shares of equities for $2521.07\n",
      "Selling 280.58 shares of oil for 2567.34 (profit $67.34)\n",
      "Shorting 12.65 shares of equities for $2537.90\n",
      "Shorting 12.48 shares of equities for $2537.90\n",
      "Shorting 12.40 shares of equities for $2537.90\n",
      "Shorting 242.17 shares of oil for $2537.90\n",
      "Covering 12.94 shares of equities for -2647.65 (profit $-126.58)\n",
      "Selling 12.92 shares of equities for 2560.09 (profit $39.03)\n",
      "Buying 12.24 shares of equities for $2516.01\n",
      "Shorting 12.16 shares of equities for $2516.01\n",
      "Covering 12.73 shares of equities for -2633.18 (profit $-112.11)\n",
      "Selling 12.67 shares of equities for 2621.40 (profit $100.34)\n",
      "Covering 12.65 shares of equities for -2580.41 (profit $-42.51)\n",
      "Covering 12.48 shares of equities for -2582.58 (profit $-44.68)\n",
      "Covering 12.40 shares of equities for -2566.30 (profit $-28.40)\n",
      "Covering 242.17 shares of oil for -2462.83 (profit $75.07)\n",
      "Buying 224.68 shares of oil for $2502.94\n",
      "Selling 12.24 shares of equities for 2533.15 (profit $17.14)\n",
      "Covering 12.16 shares of equities for -2528.78 (profit $-12.77)\n",
      "Shorting 12.16 shares of equities for $2504.03\n",
      "Shorting 12.11 shares of equities for $2504.03\n",
      "Shorting 12.22 shares of equities for $2504.03\n",
      "Selling 224.68 shares of oil for 2691.67 (profit $188.73)\n",
      "Covering 12.16 shares of equities for -2579.31 (profit $-75.28)\n",
      "Buying 12.17 shares of equities for $2532.39\n",
      "Covering 12.11 shares of equities for -2523.28 (profit $-19.25)\n",
      "Covering 12.22 shares of equities for -2524.44 (profit $-20.41)\n",
      "Buying 12.12 shares of equities for $2522.47\n",
      "Shorting 12.21 shares of equities for $2522.47\n",
      "Shorting 12.04 shares of equities for $2522.47\n",
      "Buying 11.82 shares of equities for $2522.47\n",
      "Buying 234.65 shares of oil for $2522.47\n",
      "Selling 12.17 shares of equities for 2630.75 (profit $98.35)\n",
      "Selling 12.12 shares of equities for 2633.26 (profit $110.79)\n",
      "Covering 12.21 shares of equities for -2650.15 (profit $-127.67)\n",
      "Covering 12.04 shares of equities for -2611.68 (profit $-89.21)\n",
      "Buying 11.56 shares of equities for $2520.54\n",
      "Selling 11.82 shares of equities for 2584.53 (profit $62.06)\n",
      "Selling 234.65 shares of oil for 2208.04 (profit $-314.43)\n",
      "Shorting 223.61 shares of oil for $2457.45\n",
      "Selling 11.56 shares of equities for 2525.86 (profit $5.32)\n",
      "Covering 223.61 shares of oil for -2249.49 (profit $207.96)\n",
      "Buying 11.64 shares of equities for $2510.76\n",
      "Buying 221.60 shares of oil for $2510.76\n",
      "Buying 11.72 shares of equities for $2510.76\n",
      "Selling 11.64 shares of equities for 2429.31 (profit $-81.45)\n",
      "Selling 221.60 shares of oil for 2251.49 (profit $-259.28)\n",
      "Shorting 11.21 shares of equities for $2425.58\n",
      "Selling 11.72 shares of equities for 2472.45 (profit $-38.32)\n",
      "Shorting 221.04 shares of oil for $2416.00\n",
      "Covering 11.21 shares of equities for -2539.14 (profit $-113.56)\n",
      "Buying 203.55 shares of oil for $2387.62\n",
      "Covering 221.04 shares of oil for -2590.63 (profit $-174.62)\n",
      "Selling 203.55 shares of oil for 2322.48 (profit $-65.14)\n"
     ]
    },
    {
     "data": {
      "image/png": "[encoded data removed]",
      "text/plain": [
       "<matplotlib.figure.Figure at 0x10fede290>"
      ]
     },
     "metadata": {},
     "output_type": "display_data"
    },
    {
     "name": "stdout",
     "output_type": "stream",
     "text": [
      "With Gartman's guidance, we went from $10000.00 to $9310.70!\n"
     ]
    }
   ],
   "source": [
    "initial_money = 10000\n",
    "money = initial_money\n",
    "portfolio = []\n",
    "\n",
    "start = datetime(2016, 1, 1, 0, 0) # Jan 1, 2016\n",
    "end = datetime(2017, 2, 1, 0, 0)   # Feb 1, 2017\n",
    "\n",
    "for ind, date in enumerate(arrow.Arrow.range('day', start, end)):\n",
    "    enters = [trade.enter(date, money) for trade in trades]\n",
    "    profit = sum([trade.exit(date) for trade in trades])\n",
    "    money += profit\n",
    "    portfolio.append(money)\n",
    "\n",
    "fig = plt.figure()\n",
    "ax = fig.add_subplot(111)\n",
    "ax.plot(portfolio)\n",
    "ax.set_ylim(0, max(portfolio))\n",
    "ax.set_title(\"The Gartman Portfolio\")\n",
    "ax.set_xlabel(\"Days after Jan 1, 2016\")\n",
    "ax.set_ylabel(\"Gartman's Assets ($)\")\n",
    "plt.show()\n",
    "print \"With Gartman's guidance, we went from ${:.2f} to ${:.2f}!\".format(initial_money, money)"
   ]
  },
  {
   "cell_type": "code",
   "execution_count": null,
   "metadata": {
    "collapsed": true,
    "deletable": true,
    "editable": true
   },
   "outputs": [],
   "source": []
  }
 ],
 "metadata": {
  "anaconda-cloud": {},
  "kernelspec": {
   "display_name": "Python 2",
   "language": "python",
   "name": "python2"
  }
 },
 "nbformat": 4,
 "nbformat_minor": 1
}
